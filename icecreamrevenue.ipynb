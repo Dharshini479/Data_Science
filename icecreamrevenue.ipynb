{
  "nbformat": 4,
  "nbformat_minor": 0,
  "metadata": {
    "colab": {
      "provenance": [],
      "authorship_tag": "ABX9TyO1DpJPFxxMp7dMQTTZGN4D",
      "include_colab_link": true
    },
    "kernelspec": {
      "name": "python3",
      "display_name": "Python 3"
    },
    "language_info": {
      "name": "python"
    }
  },
  "cells": [
    {
      "cell_type": "markdown",
      "metadata": {
        "id": "view-in-github",
        "colab_type": "text"
      },
      "source": [
        "<a href=\"https://colab.research.google.com/github/Dharshini479/Data_Science/blob/main/icecreamrevenue.ipynb\" target=\"_parent\"><img src=\"https://colab.research.google.com/assets/colab-badge.svg\" alt=\"Open In Colab\"/></a>"
      ]
    },
    {
      "cell_type": "code",
      "execution_count": null,
      "metadata": {
        "id": "Z_hYMKrtBXvi"
      },
      "outputs": [],
      "source": [
        "import pandas as pd\n",
        "from sklearn.model_selection import train_test_split\n",
        "from sklearn.preprocessing import StandardScaler\n",
        "\n"
      ]
    },
    {
      "cell_type": "code",
      "source": [
        "data = pd.read_csv('/content/sample_data/Ice Cream.csv')"
      ],
      "metadata": {
        "id": "2G5oBZo-EV_j"
      },
      "execution_count": null,
      "outputs": []
    },
    {
      "cell_type": "code",
      "source": [
        "print(data.head())\n"
      ],
      "metadata": {
        "colab": {
          "base_uri": "https://localhost:8080/"
        },
        "id": "otigWeO8EfES",
        "outputId": "bcde6971-68dd-4222-ba49-aa3224212414"
      },
      "execution_count": null,
      "outputs": [
        {
          "output_type": "stream",
          "name": "stdout",
          "text": [
            "   Temperature  Revenue\n",
            "0         24.6      535\n",
            "1         26.1      626\n",
            "2         27.8      661\n",
            "3         20.6      488\n",
            "4         11.6      317\n"
          ]
        }
      ]
    },
    {
      "cell_type": "code",
      "source": [
        "\n",
        "X = data[['Temperature']]\n",
        "y = data['Revenue']"
      ],
      "metadata": {
        "id": "8xCFLbKmEncg"
      },
      "execution_count": null,
      "outputs": []
    },
    {
      "cell_type": "code",
      "source": [
        "X_train, X_test, y_train, y_test = train_test_split(X, y, test_size=0.2, random_state=42)"
      ],
      "metadata": {
        "id": "JqmHVk8xEny6"
      },
      "execution_count": null,
      "outputs": []
    },
    {
      "cell_type": "code",
      "source": [
        "\n",
        "scaler = StandardScaler()\n",
        "X_train_scaled = scaler.fit_transform(X_train)\n",
        "X_test_scaled = scaler.transform(X_test)\n",
        "\n",
        "\n"
      ],
      "metadata": {
        "id": "bLI2htv7FLGw"
      },
      "execution_count": null,
      "outputs": []
    },
    {
      "cell_type": "code",
      "source": [
        "print(\"Scaled Training Features:\\n\", X_train_scaled)\n"
      ],
      "metadata": {
        "colab": {
          "base_uri": "https://localhost:8080/"
        },
        "id": "5ZMvvjwiFj7X",
        "outputId": "e991b900-4269-439a-dc8b-49835818289c"
      },
      "execution_count": null,
      "outputs": [
        {
          "output_type": "stream",
          "name": "stdout",
          "text": [
            "Scaled Training Features:\n",
            " [[-0.482901  ]\n",
            " [-1.63186498]\n",
            " [-0.04287225]\n",
            " [-0.44623194]\n",
            " [-0.76403049]\n",
            " [ 1.36277517]\n",
            " [ 0.58050183]\n",
            " [-2.18190092]\n",
            " [ 0.87385433]\n",
            " [-0.32400173]\n",
            " [ 0.78829318]\n",
            " [ 1.63168163]\n",
            " [ 0.33604141]\n",
            " [-0.38511683]\n",
            " [-0.56846215]\n",
            " [ 0.16491911]\n",
            " [ 0.32381838]\n",
            " [ 0.95941548]\n",
            " [ 0.88607735]\n",
            " [-0.40956288]\n",
            " [ 0.33604141]\n",
            " [-0.09176433]\n",
            " [-0.84959163]\n",
            " [-0.28733267]\n",
            " [-0.23844058]\n",
            " [ 0.59272485]\n",
            " [ 0.66606297]\n",
            " [-1.42407362]\n",
            " [-0.75180747]\n",
            " [ 2.426178  ]\n",
            " [-0.83736861]\n",
            " [ 1.16720683]\n",
            " [-1.55852685]\n",
            " [ 0.77607016]\n",
            " [ 1.79058091]\n",
            " [ 1.76613486]\n",
            " [-0.14065641]\n",
            " [ 0.2138112 ]\n",
            " [ 2.49951613]\n",
            " [-1.52185779]\n",
            " [-0.27510965]\n",
            " [ 0.22603422]\n",
            " [-0.43400892]\n",
            " [-1.19183622]\n",
            " [ 1.14276079]\n",
            " [-0.43400892]\n",
            " [-0.7151384 ]\n",
            " [ 0.45827162]\n",
            " [ 0.17714213]\n",
            " [ 0.49494068]\n",
            " [-0.9473758 ]\n",
            " [ 0.47049464]\n",
            " [-0.78847653]\n",
            " [ 0.47049464]\n",
            " [-1.21628226]\n",
            " [-0.22621756]\n",
            " [-0.1895485 ]\n",
            " [-0.50734705]\n",
            " [-2.04744769]\n",
            " [-0.70291538]\n",
            " [ 0.40937953]\n",
            " [ 0.75162412]\n",
            " [ 0.69050902]\n",
            " [ 1.59501257]\n",
            " [ 0.81273923]\n",
            " [-0.32400173]\n",
            " [-0.78847653]\n",
            " [ 1.06942267]\n",
            " [ 1.10609173]\n",
            " [ 0.77607016]\n",
            " [-0.55623913]\n",
            " [ 0.75162412]\n",
            " [ 0.59272485]\n",
            " [-1.3507355 ]\n",
            " [-0.54401611]\n",
            " [-0.1895485 ]\n",
            " [-0.23844058]\n",
            " [ 0.58050183]\n",
            " [-0.28733267]\n",
            " [-0.05509527]\n",
            " [ 0.59272485]\n",
            " [ 1.04497662]\n",
            " [ 0.49494068]\n",
            " [ 0.32381838]\n",
            " [ 1.53389747]\n",
            " [-0.29955569]\n",
            " [ 0.2749263 ]\n",
            " [-1.27739737]\n",
            " [ 0.03046588]\n",
            " [ 1.30166007]\n",
            " [-0.87403768]\n",
            " [ 0.87385433]\n",
            " [ 0.26270328]\n",
            " [ 0.34826443]\n",
            " [ 0.69050902]\n",
            " [-0.70291538]\n",
            " [-1.644088  ]\n",
            " [ 0.11602703]\n",
            " [-1.20405924]\n",
            " [-0.05509527]\n",
            " [ 0.54383276]\n",
            " [ 0.84940829]\n",
            " [-0.95959882]\n",
            " [-1.06960601]\n",
            " [ 0.71495506]\n",
            " [ 0.38493349]\n",
            " [ 1.9617032 ]\n",
            " [ 0.25048026]\n",
            " [ 0.39715651]\n",
            " [-0.22621756]\n",
            " [-0.43400892]\n",
            " [ 0.40937953]\n",
            " [-0.38511683]\n",
            " [-1.75409519]\n",
            " [-0.54401611]\n",
            " [ 2.15727154]\n",
            " [ 1.39944423]\n",
            " [-0.06731829]\n",
            " [ 0.29937234]\n",
            " [-0.36067079]\n",
            " [-0.45845496]\n",
            " [ 0.01824286]\n",
            " [ 0.01824286]\n",
            " [-1.49741175]\n",
            " [-1.1796132 ]\n",
            " [ 0.14047307]\n",
            " [-1.92521748]\n",
            " [-1.63186498]\n",
            " [ 0.36048745]\n",
            " [-0.9473758 ]\n",
            " [-0.44623194]\n",
            " [-0.9473758 ]\n",
            " [-0.60513121]\n",
            " [-1.02071393]\n",
            " [ 0.81273923]\n",
            " [ 1.58278955]\n",
            " [ 1.46055934]\n",
            " [-0.69069236]\n",
            " [ 0.29937234]\n",
            " [ 0.59272485]\n",
            " [-0.55623913]\n",
            " [ 0.86163131]\n",
            " [-0.34844777]\n",
            " [-1.30184341]\n",
            " [-0.20177152]\n",
            " [-0.54401611]\n",
            " [-0.89848372]\n",
            " [ 1.17942986]\n",
            " [ 0.44604859]\n",
            " [ 1.31388309]\n",
            " [ 0.03046588]\n",
            " [ 0.29937234]\n",
            " [-0.04287225]\n",
            " [ 0.40937953]\n",
            " [ 1.93725716]\n",
            " [-0.1895485 ]\n",
            " [ 0.89830037]\n",
            " [-1.46074268]\n",
            " [-0.34844777]\n",
            " [-0.03064923]\n",
            " [ 0.53160974]\n",
            " [ 1.0327536 ]\n",
            " [ 0.49494068]\n",
            " [-0.22621756]\n",
            " [-0.34844777]\n",
            " [ 0.93496944]\n",
            " [ 0.61717089]\n",
            " [-0.33622475]\n",
            " [ 1.08164569]\n",
            " [ 0.75162412]\n",
            " [-0.00620318]\n",
            " [ 0.22603422]\n",
            " [ 0.40937953]\n",
            " [-0.10398735]\n",
            " [-0.62957726]\n",
            " [-1.81521029]\n",
            " [ 1.81502695]\n",
            " [ 1.02053058]\n",
            " [ 0.00601984]\n",
            " [-0.37289381]\n",
            " [ 0.28714932]\n",
            " [ 0.5071637 ]\n",
            " [ 0.99608454]\n",
            " [-1.09405205]\n",
            " [ 1.24054496]\n",
            " [-0.2506636 ]\n",
            " [-0.80069955]\n",
            " [ 2.79286863]\n",
            " [ 1.55834351]\n",
            " [ 0.81273923]\n",
            " [ 0.99608454]\n",
            " [-1.42407362]\n",
            " [-1.80298727]\n",
            " [ 0.42160255]\n",
            " [ 0.26270328]\n",
            " [ 1.36277517]\n",
            " [-0.61735423]\n",
            " [ 0.66606297]\n",
            " [ 1.28943705]\n",
            " [ 0.9716385 ]\n",
            " [-0.60513121]\n",
            " [-0.36067079]\n",
            " [-1.20405924]\n",
            " [ 0.77607016]\n",
            " [ 0.29937234]\n",
            " [ 1.15498381]\n",
            " [ 1.264991  ]\n",
            " [-0.28733267]\n",
            " [ 1.19165288]\n",
            " [ 0.10380401]\n",
            " [-0.38511683]\n",
            " [-1.06960601]\n",
            " [-2.70749083]\n",
            " [ 0.06713494]\n",
            " [ 0.49494068]\n",
            " [ 0.51938672]\n",
            " [-0.43400892]\n",
            " [-0.80069955]\n",
            " [-0.39733986]\n",
            " [-1.81521029]\n",
            " [-0.23844058]\n",
            " [ 0.34826443]\n",
            " [-0.4217859 ]\n",
            " [ 2.02281831]\n",
            " [-1.90077144]\n",
            " [ 0.82496225]\n",
            " [-0.70291538]\n",
            " [ 0.69050902]\n",
            " [ 1.61945861]\n",
            " [-1.48518873]\n",
            " [ 0.83718527]\n",
            " [-0.39733986]\n",
            " [ 1.82724997]\n",
            " [-0.37289381]\n",
            " [ 0.32381838]\n",
            " [ 1.264991  ]\n",
            " [ 0.72717808]\n",
            " [ 0.11602703]\n",
            " [-0.4217859 ]\n",
            " [-1.59519592]\n",
            " [ 0.61717089]\n",
            " [-1.33851247]\n",
            " [-2.1085628 ]\n",
            " [ 0.49494068]\n",
            " [ 0.06713494]\n",
            " [-1.63186498]\n",
            " [ 0.03046588]\n",
            " [-0.59290819]\n",
            " [ 0.22603422]\n",
            " [ 0.48271766]\n",
            " [ 0.76384714]\n",
            " [-0.92292976]\n",
            " [-1.28962039]\n",
            " [-0.04287225]\n",
            " [ 0.91052339]\n",
            " [-0.26288662]\n",
            " [ 0.61717089]\n",
            " [-0.12843339]\n",
            " [ 0.12825005]\n",
            " [-0.86181465]\n",
            " [-0.91070674]\n",
            " [ 0.66606297]\n",
            " [ 0.66606297]\n",
            " [-1.28962039]\n",
            " [ 1.04497662]\n",
            " [-1.63186498]\n",
            " [-2.04744769]\n",
            " [-0.14065641]\n",
            " [ 0.58050183]\n",
            " [-0.84959163]\n",
            " [ 0.86163131]\n",
            " [-0.36067079]\n",
            " [-1.54630383]\n",
            " [-0.12843339]\n",
            " [ 0.00601984]\n",
            " [ 0.40937953]\n",
            " [-0.38511683]\n",
            " [-0.28733267]\n",
            " [ 1.39944423]\n",
            " [ 0.09158099]\n",
            " [ 1.14276079]\n",
            " [-0.8862607 ]\n",
            " [-2.58526062]\n",
            " [ 0.38493349]\n",
            " [-1.28962039]\n",
            " [-0.1895485 ]\n",
            " [-1.98633259]\n",
            " [ 2.1328255 ]\n",
            " [-0.39733986]\n",
            " [ 0.11602703]\n",
            " [ 2.16949456]\n",
            " [ 2.1328255 ]\n",
            " [ 0.2749263 ]\n",
            " [-0.40956288]\n",
            " [ 0.05491192]\n",
            " [ 0.66606297]\n",
            " [ 0.39715651]\n",
            " [ 0.00601984]\n",
            " [ 0.16491911]\n",
            " [-1.50963477]\n",
            " [-0.22621756]\n",
            " [-0.55623913]\n",
            " [ 0.51938672]\n",
            " [ 1.25276798]\n",
            " [-0.6540233 ]\n",
            " [-1.19183622]\n",
            " [-0.0184262 ]\n",
            " [-0.40956288]\n",
            " [ 0.32381838]\n",
            " [-0.07954131]\n",
            " [-1.3507355 ]\n",
            " [-0.97182184]\n",
            " [ 0.06713494]\n",
            " [ 2.02281831]\n",
            " [-1.1184981 ]\n",
            " [ 0.16491911]\n",
            " [-0.58068517]\n",
            " [-0.59290819]\n",
            " [ 0.71495506]\n",
            " [ 1.94948018]\n",
            " [ 0.48271766]\n",
            " [-0.34844777]\n",
            " [-0.62957726]\n",
            " [ 1.11831475]\n",
            " [-0.05509527]\n",
            " [-0.73958444]\n",
            " [-0.72736142]\n",
            " [ 1.65612768]\n",
            " [ 0.06713494]\n",
            " [-0.26288662]\n",
            " [ 0.44604859]\n",
            " [-1.59519592]\n",
            " [-1.53408081]\n",
            " [-0.39733986]\n",
            " [ 0.8005162 ]\n",
            " [-1.21628226]\n",
            " [ 0.82496225]\n",
            " [ 0.15269609]\n",
            " [-1.03293695]\n",
            " [ 0.03046588]\n",
            " [ 0.88607735]\n",
            " [-0.89848372]\n",
            " [ 0.40937953]\n",
            " [ 0.47049464]\n",
            " [-0.28733267]\n",
            " [ 0.11602703]\n",
            " [-1.96188655]\n",
            " [ 1.264991  ]\n",
            " [ 0.0426889 ]\n",
            " [-0.04287225]\n",
            " [-0.86181465]\n",
            " [-1.43629664]\n",
            " [-1.8763254 ]\n",
            " [-1.92521748]\n",
            " [ 1.83947299]\n",
            " [-0.70291538]\n",
            " [-0.38511683]\n",
            " [ 1.00830756]\n",
            " [ 1.31388309]\n",
            " [-1.33851247]\n",
            " [ 1.22832194]\n",
            " [-1.1796132 ]\n",
            " [-0.20177152]\n",
            " [ 0.93496944]\n",
            " [ 1.71724278]\n",
            " [-1.77854123]\n",
            " [-0.83736861]\n",
            " [ 0.60494787]\n",
            " [ 0.28714932]\n",
            " [-1.44851966]\n",
            " [ 0.0426889 ]\n",
            " [ 0.9716385 ]\n",
            " [-0.27510965]\n",
            " [-1.22850529]\n",
            " [ 0.61717089]\n",
            " [ 2.40173196]\n",
            " [-1.71742613]\n",
            " [-0.44623194]\n",
            " [ 1.37499819]\n",
            " [-1.1796132 ]\n",
            " [-0.05509527]\n",
            " [-1.20405924]\n",
            " [-0.8862607 ]\n",
            " [-1.48518873]\n",
            " [-0.29955569]\n",
            " [-1.06960601]\n",
            " [ 1.61945861]\n",
            " [ 0.8005162 ]\n",
            " [-0.77625351]\n",
            " [ 2.23060966]\n",
            " [-1.1184981 ]\n",
            " [ 0.83718527]\n",
            " [ 0.40937953]\n",
            " [-0.67846934]\n",
            " [ 0.70273204]\n",
            " [ 0.20158817]\n",
            " [ 0.31159536]\n",
            " [ 1.9617032 ]\n",
            " [-0.75180747]\n",
            " [-0.95959882]]\n"
          ]
        }
      ]
    },
    {
      "cell_type": "code",
      "source": [
        "import pandas as pd\n",
        "\n",
        "data = pd.read_csv('/content/sample_data/Ice Cream.csv')\n",
        "missing_values = data.isnull().sum()\n",
        "print(missing_values)"
      ],
      "metadata": {
        "colab": {
          "base_uri": "https://localhost:8080/"
        },
        "id": "3Ph8r_5cKP01",
        "outputId": "acb85220-9dd2-4288-91e4-6226d225fb24"
      },
      "execution_count": null,
      "outputs": [
        {
          "output_type": "stream",
          "name": "stdout",
          "text": [
            "Temperature    0\n",
            "Revenue        0\n",
            "dtype: int64\n"
          ]
        }
      ]
    },
    {
      "cell_type": "code",
      "source": [
        "correlation_matrix = data[['Temperature', 'Revenue']].corr()"
      ],
      "metadata": {
        "id": "iv1RBsU7LB4d"
      },
      "execution_count": null,
      "outputs": []
    },
    {
      "cell_type": "code",
      "source": [
        "import seaborn as sns\n",
        "import matplotlib.pyplot as plt\n",
        "\n",
        "plt.figure(figsize=(8, 6))\n",
        "sns.heatmap(correlation_matrix, annot=True, cmap='coolwarm', fmt=\".2f\")\n",
        "plt.title('Correlation Heatmap: Temperature vs. Revenue')\n",
        "plt.show()"
      ],
      "metadata": {
        "colab": {
          "base_uri": "https://localhost:8080/",
          "height": 545
        },
        "id": "ZnDHzjIVLa1U",
        "outputId": "a93a15c6-7328-4e98-b586-a16848045fab"
      },
      "execution_count": null,
      "outputs": [
        {
          "output_type": "display_data",
          "data": {
            "text/plain": [
              "<Figure size 800x600 with 2 Axes>"
            ],
            "image/png": "[encoded data removed]"
          },
          "metadata": {}
        }
      ]
    },
    {
      "cell_type": "code",
      "source": [
        "import pandas as pd\n",
        "\n",
        "data = pd.read_csv('/content/sample_data/Ice Cream.csv')\n",
        "\n",
        "\n",
        "total_revenue = data['Revenue'].sum()\n",
        "\n",
        "print(\"Total Revenue:\", total_revenue)"
      ],
      "metadata": {
        "colab": {
          "base_uri": "https://localhost:8080/"
        },
        "id": "DAprHumjMFGq",
        "outputId": "b6aa3ea7-4889-4527-cbaf-4c984881a284"
      },
      "execution_count": null,
      "outputs": [
        {
          "output_type": "stream",
          "name": "stdout",
          "text": [
            "Total Revenue: 261029\n"
          ]
        }
      ]
    },
    {
      "cell_type": "code",
      "source": [
        "import pandas as pd\n",
        "import matplotlib.pyplot as plt\n",
        "\n",
        "\n",
        "data = pd.read_csv('/content/sample_data/Ice Cream.csv')\n",
        "\n",
        "plt.figure(figsize=(8, 6))\n",
        "plt.scatter(data['Temperature'], data['Revenue'], color='blue', marker='o')\n",
        "plt.title('Temperature vs. Revenue')\n",
        "plt.xlabel('Temperature')\n",
        "plt.ylabel('Revenue')\n",
        "plt.grid(True)\n",
        "plt.show()"
      ],
      "metadata": {
        "colab": {
          "base_uri": "https://localhost:8080/",
          "height": 564
        },
        "id": "65GQcUnWMnz7",
        "outputId": "62e22e54-c4e9-4f01-fdb8-4b17f405636f"
      },
      "execution_count": null,
      "outputs": [
        {
          "output_type": "display_data",
          "data": {
            "text/plain": [
              "<Figure size 800x600 with 1 Axes>"
            ],
            "image/png": "[encoded data removed]"
          },
          "metadata": {}
        }
      ]
    }
  ]
}